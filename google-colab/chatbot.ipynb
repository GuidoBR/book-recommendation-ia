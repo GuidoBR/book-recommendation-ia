{
  "nbformat": 4,
  "nbformat_minor": 0,
  "metadata": {
    "colab": {
      "provenance": []
    },
    "kernelspec": {
      "name": "python3",
      "display_name": "Python 3"
    },
    "language_info": {
      "name": "python"
    }
  },
  "cells": [
    {
      "cell_type": "code",
      "source": [
        "!pip install -q -U google-generativeai"
      ],
      "metadata": {
        "id": "2FjQow6oYyLu"
      },
      "execution_count": 3,
      "outputs": []
    },
    {
      "cell_type": "code",
      "source": [
        "import google.generativeai as genai\n",
        "import textwrap\n",
        "from IPython.display import display\n",
        "from IPython.display import Markdown\n",
        "from google.colab import userdata\n",
        "\n",
        "API_KEY = userdata.get('SECRET_KEY')\n",
        "genai.configure(api_key=API_KEY)\n",
        "\n",
        "generation_config = {\n",
        "  \"temperature\": 0,\n",
        "}\n",
        "\n",
        "model = genai.GenerativeModel(model_name='gemini-1.0-pro', generation_config=generation_config)"
      ],
      "metadata": {
        "id": "ryGP_nYWZTj9"
      },
      "execution_count": 36,
      "outputs": []
    },
    {
      "cell_type": "code",
      "source": [
        "chat = model.start_chat(history=[])"
      ],
      "metadata": {
        "id": "2lcuN0whawx9"
      },
      "execution_count": 26,
      "outputs": []
    },
    {
      "cell_type": "code",
      "source": [
        "def to_markdown(text):\n",
        "  text = text.replace('•', '  *')\n",
        "  return Markdown(textwrap.indent(text, '> ', predicate=lambda _: True))"
      ],
      "metadata": {
        "id": "F5CLOY6zcvsK"
      },
      "execution_count": 18,
      "outputs": []
    },
    {
      "cell_type": "code",
      "source": [
        "prompt = input(\"Quais livros da Companhia das Letras você mais gosta?\")\n",
        "chat.send_message(f\"Aja como um livreiro. Eu quero que você sugira livros do grupo Companhia das Letras com base nos livros que eu vou dizer que gosto. Lembre-se que a Companhia das Letras tem muitos selos distintos: Objetiva, Zahar, Suma, Penguin, ... {prompt}\")\n",
        "\n",
        "#Imprimindo o histórico\n",
        "for message in chat.history:\n",
        "  display(to_markdown(f'**{message.role}**: {message.parts[0].text}'))\n",
        "  print('-------------------------------------------')"
      ],
      "metadata": {
        "colab": {
          "base_uri": "https://localhost:8080/",
          "height": 602
        },
        "id": "YQgUAdhDbNUT",
        "outputId": "832b3178-364e-4a58-df0f-c0b5bf9bc977"
      },
      "execution_count": 37,
      "outputs": [
        {
          "name": "stdout",
          "output_type": "stream",
          "text": [
            "Quais livros da Companhia das Letras você mais gosta?Rápido e Devagar, Nudge\n"
          ]
        },
        {
          "output_type": "display_data",
          "data": {
            "text/plain": [
              "<IPython.core.display.Markdown object>"
            ],
            "text/markdown": "> **user**: Aja como um livreiro. Eu quero que você sugira livros do grupo Companhia das Letras com base nos livros que eu vou dizer que gosto. Lembre-se que a Companhia das Letras tem muitos selos distintos: Objetiva, Zahar, Suma, Penguin, ... Rápido e Devagar, Nudge"
          },
          "metadata": {}
        },
        {
          "output_type": "stream",
          "name": "stdout",
          "text": [
            "-------------------------------------------\n"
          ]
        },
        {
          "output_type": "display_data",
          "data": {
            "text/plain": [
              "<IPython.core.display.Markdown object>"
            ],
            "text/markdown": "> **model**: **Livros que você gosta:**\n> \n> * Rápido e Devagar\n> * Nudge\n> \n> **Sugestões da Companhia das Letras:**\n> \n> **Selo Objetiva:**\n> \n> * **Pensar, Rápido e Devagar** (Daniel Kahneman): Uma exploração aprofundada dos dois sistemas de pensamento da mente humana.\n> * **O Paradoxo da Escolha** (Barry Schwartz): Um exame do impacto negativo do excesso de opções em nossas vidas.\n> * **O Poder do Hábito** (Charles Duhigg): Um guia prático para entender e mudar nossos hábitos.\n> \n> **Selo Zahar:**\n> \n> * **A Ciência da Felicidade** (Sonja Lyubomirsky): Um livro baseado em pesquisas que explora os fatores que contribuem para a felicidade.\n> * **Otimismo Racional** (Matt Ridley): Um argumento convincente de que o otimismo é essencial para o progresso humano.\n> * **A Ilusionista** (Sylvain Neuvel): Um romance de ficção científica que explora as consequências éticas da inteligência artificial.\n> \n> **Selo Suma:**\n> \n> * **Homo Deus** (Yuval Noah Harari): Uma visão provocativa do futuro da humanidade e o impacto da tecnologia.\n> * **21 Lições para o Século 21** (Yuval Noah Harari): Um guia essencial para navegar pelos desafios e oportunidades do século XXI.\n> * **Sapiens** (Yuval Noah Harari): Uma história abrangente da humanidade, desde suas origens até o presente.\n> \n> **Selo Penguin:**\n> \n> * **O Algoritmo do Amor** (Jessica Knoll): Um romance contemporâneo que explora o impacto das mídias sociais e da tecnologia em nossos relacionamentos.\n> * **O Código da Cultura** (Francis Fukuyama): Uma análise das forças que moldam a cultura e a sociedade.\n> * **O Quarto de Jack** (Emma Donoghue): Um romance comovente que conta a história de um menino que passou toda a sua vida confinado em um quarto."
          },
          "metadata": {}
        },
        {
          "output_type": "stream",
          "name": "stdout",
          "text": [
            "-------------------------------------------\n"
          ]
        }
      ]
    },
    {
      "cell_type": "code",
      "source": [
        "chat.history = []"
      ],
      "metadata": {
        "id": "ZLnp9NhBcyx2"
      },
      "execution_count": 34,
      "outputs": []
    }
  ]
}