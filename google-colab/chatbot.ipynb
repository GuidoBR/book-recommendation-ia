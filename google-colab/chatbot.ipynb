{
  "nbformat": 4,
  "nbformat_minor": 0,
  "metadata": {
    "colab": {
      "provenance": []
    },
    "kernelspec": {
      "name": "python3",
      "display_name": "Python 3"
    },
    "language_info": {
      "name": "python"
    }
  },
  "cells": [
    {
      "cell_type": "code",
      "source": [
        "!pip install -q -U google-generativeai"
      ],
      "metadata": {
        "id": "2FjQow6oYyLu"
      },
      "execution_count": 1,
      "outputs": []
    },
    {
      "cell_type": "code",
      "source": [
        "import google.generativeai as genai\n",
        "import textwrap\n",
        "from IPython.display import display\n",
        "from IPython.display import Markdown\n",
        "from google.colab import userdata\n",
        "\n",
        "API_KEY = userdata.get('SECRET_KEY')\n",
        "genai.configure(api_key=API_KEY)\n",
        "\n",
        "generation_config = {\n",
        "  \"temperature\": 0,\n",
        "}\n",
        "\n",
        "model = genai.GenerativeModel(model_name='gemini-1.0-pro', generation_config=generation_config)"
      ],
      "metadata": {
        "id": "ryGP_nYWZTj9"
      },
      "execution_count": 2,
      "outputs": []
    },
    {
      "cell_type": "code",
      "source": [
        "chat = model.start_chat(history=[])"
      ],
      "metadata": {
        "id": "2lcuN0whawx9"
      },
      "execution_count": 3,
      "outputs": []
    },
    {
      "cell_type": "code",
      "source": [
        "def to_markdown(text):\n",
        "  text = text.replace('•', '  *')\n",
        "  return Markdown(textwrap.indent(text, '> ', predicate=lambda _: True))"
      ],
      "metadata": {
        "id": "F5CLOY6zcvsK"
      },
      "execution_count": 4,
      "outputs": []
    },
    {
      "cell_type": "code",
      "source": [
        "prompt = \"\"\"\n",
        "Aja como um livreiro. Sugira livros do que sejam similares aos livros que o leitor gosta.\n",
        "\n",
        "    Leitor: Rápido e Devagar\n",
        "    Livreiro:\n",
        "    - \"Nudge\" por Richard H. Thaler e Cass R. Sunstein\n",
        "    - \"Viver com Risco\" por Alison Schrager\n",
        "    - \"Preparados para o Risco\" por Gerd Gigerenzer\n",
        "\n",
        "    Leitor: Os três mosqueteiros\n",
        "    Livreiro:\n",
        "\n",
        "    A resposta deve ser apenas um json valido no seguinte formato:\n",
        "\n",
        "    {\n",
        "     [\n",
        "       {\"index\": 0, \"title\": \"titulo do livro\", \"author\": \"nome dos autores separados por virgula\", \"image\": \"url para imagem da capa do livro\", \"description\": \"descricao do livro explicando porque foi recomendado\"}\n",
        "     ]\n",
        "    }\n",
        "\"\"\"\n",
        "user_prompt = input(\"Quais livros você mais gosta? \")\n",
        "chat.send_message({prompt})\n",
        "chat.send_message(f\"Livreiro: {user_prompt}\")\n",
        "\n",
        "#Imprimindo o histórico\n",
        "for message in chat.history:\n",
        "  display(to_markdown(f'**{message.role}**: {message.parts[0].text}'))\n",
        "  print('-------------------------------------------')"
      ],
      "metadata": {
        "colab": {
          "base_uri": "https://localhost:8080/",
          "height": 832
        },
        "id": "YQgUAdhDbNUT",
        "outputId": "c610524a-ff1b-4f7d-e1b7-eb22bf16d94f"
      },
      "execution_count": 6,
      "outputs": [
        {
          "name": "stdout",
          "output_type": "stream",
          "text": [
            "Quais livros da Companhia das Letras você mais gosta? Sherlock Holmes\n"
          ]
        },
        {
          "output_type": "display_data",
          "data": {
            "text/plain": [
              "<IPython.core.display.Markdown object>"
            ],
            "text/markdown": "> **user**: \n> Aja como um livreiro. Sugira livros do que sejam similares aos livros que o leitor gosta.\n> \n>     Leitor: Rápido e Devagar\n>     Livreiro: \n>     - \"Nudge\" por Richard H. Thaler e Cass R. Sunstein\n>     - \"Viver com Risco\" por Alison Schrager\n>     - \"Preparados para o Risco\" por Gerd Gigerenzer\n>     \n>     Leitor: Os três mosqueteiros\n>     Livreiro:\n>     \n>     A resposta deve ser apenas um json valido no seguinte formato:\n>     \n>     {\n>      [\n>        {\"index\": 0, \"title\": \"titulo do livro\", \"author\": \"nome dos autores separados por virgula\", \"image\": \"url para imagem da capa do livro\", \"description\": \"descricao do livro explicando porque foi recomendado\"}\n>      ]\n>     }\n"
          },
          "metadata": {}
        },
        {
          "output_type": "stream",
          "name": "stdout",
          "text": [
            "-------------------------------------------\n"
          ]
        },
        {
          "output_type": "display_data",
          "data": {
            "text/plain": [
              "<IPython.core.display.Markdown object>"
            ],
            "text/markdown": "> **model**: {\n>  [\n>    {\"index\": 0, \"title\": \"Nudge\", \"author\": \"Richard H. Thaler, Cass R. Sunstein\", \"image\": \"https://images-na.ssl-images-amazon.com/images/I/41-4KB39FEL._SX329_BO1,204,203,200_.jpg\", \"description\": \"Como o livro 'Rápido e Devagar', 'Nudge' explora a psicologia da tomada de decisão e como podemos usar esse conhecimento para melhorar nossas escolhas.\"},\n>    {\"index\": 1, \"title\": \"Viver com Risco\", \"author\": \"Alison Schrager\", \"image\": \"https://images-na.ssl-images-amazon.com/images/I/41p0KH0-3CL._SX331_BO1,204,203,200_.jpg\", \"description\": \"Semelhante a 'Rápido e Devagar', 'Viver com Risco' examina como lidamos com a incerteza e o risco, fornecendo insights valiosos sobre como tomar decisões informadas.\"},\n>    {\"index\": 2, \"title\": \"Preparados para o Risco\", \"author\": \"Gerd Gigerenzer\", \"image\": \"https://images-na.ssl-images-amazon.com/images/I/41-4KB39FEL._SX329_BO1,204,203,200_.jpg\", \"description\": \"Como 'Rápido e Devagar', 'Preparados para o Risco' explora os vieses cognitivos e heurísticas que influenciam nossas decisões, oferecendo estratégias para tomar melhores escolhas.\"}\n>  ]\n> }"
          },
          "metadata": {}
        },
        {
          "output_type": "stream",
          "name": "stdout",
          "text": [
            "-------------------------------------------\n"
          ]
        },
        {
          "output_type": "display_data",
          "data": {
            "text/plain": [
              "<IPython.core.display.Markdown object>"
            ],
            "text/markdown": "> **user**: Livreiro: Sherlock Holmes"
          },
          "metadata": {}
        },
        {
          "output_type": "stream",
          "name": "stdout",
          "text": [
            "-------------------------------------------\n"
          ]
        },
        {
          "output_type": "display_data",
          "data": {
            "text/plain": [
              "<IPython.core.display.Markdown object>"
            ],
            "text/markdown": "> **model**: {\n>  [\n>    {\"index\": 0, \"title\": \"O Alienista\", \"author\": \"Caleb Carr\", \"image\": \"https://images-na.ssl-images-amazon.com/images/I/41p0KH0-3CL._SX331_BO1,204,203,200_.jpg\", \"description\": \"Como Sherlock Holmes, 'O Alienista' apresenta um detetive brilhante e excêntrico que resolve crimes complexos em uma cidade do século XIX.\"},\n>    {\"index\": 1, \"title\": \"O Nome da Rosa\", \"author\": \"Umberto Eco\", \"image\": \"https://images-na.ssl-images-amazon.com/images/I/41-4KB39FEL._SX329_BO1,204,203,200_.jpg\", \"description\": \"Semelhante a Sherlock Holmes, 'O Nome da Rosa' é um mistério histórico que envolve um detetive perspicaz investigando um crime em um cenário único e atmosférico.\"},\n>    {\"index\": 2, \"title\": \"Assassinato no Expresso do Oriente\", \"author\": \"Agatha Christie\", \"image\": \"https://images-na.ssl-images-amazon.com/images/I/41-4KB39FEL._SX329_BO1,204,203,200_.jpg\", \"description\": \"Como Sherlock Holmes, 'Assassinato no Expresso do Oriente' apresenta um detetive brilhante resolvendo um crime em um ambiente fechado, usando sua inteligência e habilidades dedutivas.\"}\n>  ]\n> }"
          },
          "metadata": {}
        },
        {
          "output_type": "stream",
          "name": "stdout",
          "text": [
            "-------------------------------------------\n"
          ]
        }
      ]
    },
    {
      "cell_type": "code",
      "source": [
        "chat.history = []"
      ],
      "metadata": {
        "id": "ZLnp9NhBcyx2"
      },
      "execution_count": null,
      "outputs": []
    }
  ]
}